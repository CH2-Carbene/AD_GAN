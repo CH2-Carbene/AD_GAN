{
 "cells": [
  {
   "cell_type": "code",
   "execution_count": 6,
   "metadata": {},
   "outputs": [
    {
     "name": "stdout",
     "output_type": "stream",
     "text": [
      "c:\\Users\\CH2\\Projects\n",
      "c:\\Users\\CH2\\Projects\\AD_GAN\n"
     ]
    }
   ],
   "source": [
    "import os,glob\n",
    "import pandas as pd\n",
    "import nibabel as nib\n",
    "DATA_PATH=\"datasets/Zhongshan/pet-mr\"\n",
    "TAR_PATH=\"datasets/Zhongshan_prep\"\n",
    "CSV_PATH=\"datasets/Zhongshan/Diagnosis Information.csv\"\n",
    "%cd ..\n",
    "%cd AD_GAN"
   ]
  },
  {
   "cell_type": "code",
   "execution_count": 7,
   "metadata": {},
   "outputs": [
    {
     "data": {
      "text/plain": [
       "['ZS13339215',\n",
       " 'ZS12344318',\n",
       " 'ZS20108556',\n",
       " 'ZS20270289',\n",
       " 'ZS20270288',\n",
       " 'ZS09005057',\n",
       " 'ZS09176714',\n",
       " 'ZS09069673',\n",
       " 'ZS08002918',\n",
       " 'ZS20276801',\n",
       " 'ZS20276793',\n",
       " 'ZS20276785',\n",
       " 'ZS11344100',\n",
       " 'ZS20276854',\n",
       " 'ZS20276850',\n",
       " 'ZS20276845',\n",
       " 'ZS17142399',\n",
       " 'ZS17281196',\n",
       " 'ZS16268152',\n",
       " 'ZS10312675',\n",
       " 'ZS13229156',\n",
       " 'ZS15049778',\n",
       " 'ZS11070647',\n",
       " 'ZS09037906',\n",
       " 'ZS14049399',\n",
       " 'ZS20283449',\n",
       " 'ZS20283451',\n",
       " 'ZS20283452',\n",
       " 'ZS20283454',\n",
       " 'ZS15149810',\n",
       " 'ZS20283719',\n",
       " 'ZS20283720',\n",
       " 'ZS09067464',\n",
       " 'ZS09128145',\n",
       " 'ZS09004601',\n",
       " 'ZS13004626',\n",
       " 'ZS09024393',\n",
       " 'ZS21007410',\n",
       " 'ZS16043037',\n",
       " 'ZS15168778',\n",
       " 'ZS19075135',\n",
       " 'ZS12151383',\n",
       " 'ZS18247502',\n",
       " 'ZS18020720',\n",
       " 'ZS16319770',\n",
       " 'ZS10015525',\n",
       " 'ZS09150731',\n",
       " 'ZS14103875',\n",
       " 'ZS14249195',\n",
       " 'ZS13090589',\n",
       " 'ZS13069533',\n",
       " 'ZS09230831',\n",
       " 'ZS21056384',\n",
       " 'ZS18360533',\n",
       " 'ZS15224481',\n",
       " 'ZS20072011',\n",
       " 'ZS17244035',\n",
       " 'ZS20026768',\n",
       " 'ZS21064397',\n",
       " 'ZS14179826',\n",
       " 'ZS20201420',\n",
       " 'ZS18192544',\n",
       " 'ZS21064404',\n",
       " 'ZS21086044',\n",
       " 'ZS13037646',\n",
       " 'ZS21086057',\n",
       " 'ZS21086065',\n",
       " 'ZS09020535',\n",
       " 'ZS21094787',\n",
       " 'ZS09017388',\n",
       " 'ZS21094793',\n",
       " 'ZS21095057',\n",
       " 'ZS17090822',\n",
       " 'ZS21114931',\n",
       " 'ZS21114939',\n",
       " 'ZS12241936',\n",
       " 'ZS21123962',\n",
       " 'ZS15172219',\n",
       " 'ZS21123963',\n",
       " 'ZS21123966',\n",
       " 'ZS21123968',\n",
       " 'ZS10065226',\n",
       " 'ZS21139444',\n",
       " 'ZS21139453',\n",
       " 'ZS21139457',\n",
       " 'ZS21139469',\n",
       " 'ZS21139480',\n",
       " 'ZS21139486',\n",
       " 'ZS19034140',\n",
       " 'ZS21152409',\n",
       " 'ZS12173916',\n",
       " 'ZS15049414',\n",
       " 'ZS10096036',\n",
       " 'ZS16113335',\n",
       " 'ZS15159751',\n",
       " 'ZS21164252',\n",
       " 'ZS19169253',\n",
       " 'ZS21165686',\n",
       " 'ZS19325613',\n",
       " 'ZS21176323',\n",
       " 'ZS20015144',\n",
       " 'ZS16032250',\n",
       " 'ZS21183451',\n",
       " 'ZS21186409',\n",
       " 'ZS17113852',\n",
       " 'ZS21188673',\n",
       " 'ZS17141240',\n",
       " 'ZS10104882',\n",
       " 'ZS21197245',\n",
       " 'ZS21197268',\n",
       " 'ZS21197275',\n",
       " 'ZS21202816',\n",
       " 'ZS21202821',\n",
       " 'ZS21207682',\n",
       " 'ZS21209029',\n",
       " 'ZS20142306',\n",
       " 'ZS09209597',\n",
       " 'ZS10179424',\n",
       " 'ZS13301767',\n",
       " 'ZS11267134',\n",
       " 'ZS21220795',\n",
       " 'ZS13178347',\n",
       " 'ZS10085273',\n",
       " 'ZS10337584',\n",
       " 'ZS14172935',\n",
       " 'ZS21236505',\n",
       " 'ZS21246899',\n",
       " 'ZS17113870',\n",
       " 'ZS21250908',\n",
       " 'ZS21250909',\n",
       " 'ZS12142284']"
      ]
     },
     "execution_count": 7,
     "metadata": {},
     "output_type": "execute_result"
    }
   ],
   "source": [
    "df=pd.read_csv(CSV_PATH,dtype=str,keep_default_na=False)\n",
    "# df.set_index(\"PID\")\n",
    "pdict={value:key for key,value in df[df[\"diagonsis\"]!=\"\"][\"PID\"].to_dict().items()}\n",
    "plist=[value for key,value in df[df[\"diagonsis\"]!=\"\"][\"PID\"].to_dict().items()]\n",
    "plist"
   ]
  },
  {
   "cell_type": "code",
   "execution_count": 18,
   "metadata": {},
   "outputs": [],
   "source": [
    "import subprocess\n",
    "\n",
    "def show(s,output=None):\n",
    "    print(s,flush=True)\n",
    "    # print(s,file=sys.stderr,flush=True)\n",
    "    if output is not None:\n",
    "        output.append(s+'\\n')\n",
    "\n",
    "def run_sh(cmd,name=\"unknown\",base_dir=\"tmp\",pname=\"unknown\",outputs=[]):\n",
    "    # tcmd=\n",
    "    outputs.append(cmd)\n",
    "    print(cmd)\n",
    "    ret=subprocess.run(f\"cd {base_dir} && {cmd} 2>&1\",shell=True,stdout=subprocess.PIPE,encoding=\"utf\")\n",
    "    if ret.stdout is not None:\n",
    "        outputs.append(ret.stdout+'\\n')\n",
    "    if ret.returncode!=0:\n",
    "        show(f\"{pname}.{name}: {cmd.split()[0]} Failed!\",outputs)\n",
    "        raise Exception(f\"{name} Error!\")\n",
    "    show(f\"{pname}.{name}: {cmd.split()[0]} Successfully!\",outputs)\n"
   ]
  },
  {
   "cell_type": "code",
   "execution_count": 31,
   "metadata": {},
   "outputs": [
    {
     "name": "stdout",
     "output_type": "stream",
     "text": [
      "[Errno 13] Permission denied: 'datasets/Zhongshan/pet-mr\\\\20201107\\\\Yang, Liping_ZS13339215_091308\\\\t1_gre_fsp_3d_sag_0.8mm_302'\n",
      "Succ_cnt:  0\n",
      "Fail_cnt:  1\n",
      "Fail_list:  ['datasets/Zhongshan/pet-mr\\\\20201107\\\\Yang, Liping_ZS13339215_091308']\n"
     ]
    }
   ],
   "source": [
    "### 1. 拷贝已有图像\n",
    "### ${TARGET_DIR}/${MOD}/${PID}/img1,img2...\n",
    "# patient_dict={}\n",
    "# for dirpath, dirnames, filenames in os.walk(\".\"):\n",
    "#     pid=os.path.basename(dirpath).split(\"_\")\n",
    "#     for poss_h in pid:\n",
    "#         if poss_h in pdict:\n",
    "#             df_id=pdict[poss_h]\n",
    "#             diag=df.iloc()[df_id][\"diagonsis\"]\n",
    "#             if diag not in patient_dict:patient_dict[diag]=[]\n",
    "#             patient_dict[diag].append([poss_h,dirpath])\n",
    "\n",
    "import glob\n",
    "import shutil\n",
    "def is_imgdir(dirpath):\n",
    "    for mName in os.listdir(dirpath):\n",
    "        if mName.startswith(\"t1_gre_fsp\"):\n",
    "            return True\n",
    "    return False\n",
    "\n",
    "def cpimg(dirpath:str,need_mod:list):\n",
    "    try:\n",
    "        mpid=\"\"\n",
    "        for pid in plist:\n",
    "            if dirpath.find(pid)!=-1:\n",
    "                mpid=pid\n",
    "        if mpid==\"\":\n",
    "            raise(Exception(f\"pid not found in {dirpath}!\"))\n",
    "\n",
    "        for md,gr in need_mod:\n",
    "            ptg=os.path.join(TAR_PATH,md,\"05ZS\",mpid)\n",
    "            os.makedirs(ptg,exist_ok=True)\n",
    "\n",
    "            for img in glob.glob(os.path.join(dirpath,gr)):\n",
    "                # print(ptg,img)\n",
    "                # if img.find(\"NIF\")!=-1:\n",
    "\n",
    "                ### TODO: useless in py 3.7\n",
    "\n",
    "                # shutil.copytree(src=img,dst=ptg,dirs_exist_ok=True)\n",
    "                run_sh(f\"cp -r -t \\\"{ptg}\\\" \\\"{img}\\\"\",base_dir=\".\",pname=\"cp {img}\")\n",
    "                # if img.endswith(\"zip\"):\n",
    "                    # run_sh(f\"unzip {ptg}/{img}\",base_dir=ptg,pname=\"cp {img}\")\n",
    "                # print(ptg,img)\n",
    "        return True\n",
    "    except Exception as e:\n",
    "        print(e)\n",
    "        return False\n",
    "\n",
    "def get_img(need_mod:list):\n",
    "    succ_cnt,fail_cnt=0,0\n",
    "    fail_list=[]\n",
    "    for dirpath, dirnames, filenames in os.walk(DATA_PATH):\n",
    "        if is_imgdir(dirpath):\n",
    "            if cpimg(dirpath,need_mod):\n",
    "                succ_cnt+=1\n",
    "            else:\n",
    "                fail_cnt+=1\n",
    "                fail_list.append(dirpath)\n",
    "    print(\"Succ_cnt: \",succ_cnt)\n",
    "    print(\"Fail_cnt: \",fail_cnt)\n",
    "    print(\"Fail_list: \",fail_list)\n",
    "\n",
    "need_mod=[(\"t1\",\"t1_gre_fsp_3d_sag_0.8mm_[0-9]*\"),(\"t2\",\"t2_mx3d_sag_0.8mm_[0-9]*\")]\n",
    "get_img(need_mod)"
   ]
  },
  {
   "cell_type": "code",
   "execution_count": null,
   "metadata": {},
   "outputs": [],
   "source": [
    "### 2. 预处理T1，T2"
   ]
  },
  {
   "cell_type": "code",
   "execution_count": null,
   "metadata": {},
   "outputs": [],
   "source": [
    "### 3. 配准，获得flt数据"
   ]
  },
  {
   "cell_type": "code",
   "execution_count": null,
   "metadata": {},
   "outputs": [],
   "source": [
    "def load_t1_img(srcpath,tgpath):\n",
    "    os.makedirs(tgpath,exist_ok=True)\n",
    "    sh=lambda cmd,name=\"unknown\",base_dir=\".\":run_sh(cmd,name=name,base_dir=base_dir,pname=srcpath,outputs=[])\n",
    "    srcpath=srcpath+\"/Image/t1_gre_fsp_3d_sag_0.8mm_[0-9]*\"\n",
    "    srcpath=sorted(glob.glob(srcpath))[0]\n",
    "    sh(f\"cp -t {tgpath} {srcpath}/*\",name=\"cp\",base_dir=srcpath)\n",
    "    sh(f\"dcm2niix -b y -z y -x n -t n -m n -f t1 -o . -s n -v n .\",name=\"dcm2nii\",base_dir=tgpath)\n",
    "    img=nib.load(\"t1.nii.gz\")\n",
    "    img_arr=img.get_fdata()\n",
    "    return img_arr"
   ]
  },
  {
   "cell_type": "code",
   "execution_count": null,
   "metadata": {},
   "outputs": [],
   "source": [
    "os.makedirs(TAR_PATH,exist_ok=True)\n",
    "NC_PATH,MCI_PATH=TAR_PATH+\"/NC\",TAR_PATH+\"/MCI\"\n",
    "os.makedirs(NC_PATH,exist_ok=True)\n",
    "os.makedirs(MCI_PATH,exist_ok=True)\n",
    "data=[]\n",
    "for pid,dirpath in patient_dict[\"NC\"]:\n",
    "    data.append([load_t1_img(dirpath,NC_PATH+\"/\"+pid),0])\n",
    "for pid,dirpath in patient_dict[\"MCI\"]:\n",
    "    data.append([load_t1_img(dirpath,MCI_PATH+\"/\"+pid),1])"
   ]
  },
  {
   "cell_type": "code",
   "execution_count": 54,
   "metadata": {},
   "outputs": [
    {
     "data": {
      "text/plain": [
       "''"
      ]
     },
     "execution_count": 54,
     "metadata": {},
     "output_type": "execute_result"
    }
   ],
   "source": [
    "df.iloc()[49][\"diagonsis\"]"
   ]
  },
  {
   "cell_type": "code",
   "execution_count": null,
   "metadata": {},
   "outputs": [],
   "source": []
  }
 ],
 "metadata": {
  "interpreter": {
   "hash": "55702b90ceafba54e3ad10b929c72d2322c4b2ddf39adb4363ed7efc5edc6583"
  },
  "kernelspec": {
   "display_name": "Python 3.7.11 ('mtf')",
   "language": "python",
   "name": "python3"
  },
  "language_info": {
   "codemirror_mode": {
    "name": "ipython",
    "version": 3
   },
   "file_extension": ".py",
   "mimetype": "text/x-python",
   "name": "python",
   "nbconvert_exporter": "python",
   "pygments_lexer": "ipython3",
   "version": "3.7.11"
  },
  "orig_nbformat": 4
 },
 "nbformat": 4,
 "nbformat_minor": 2
}

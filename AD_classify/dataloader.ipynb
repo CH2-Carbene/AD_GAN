{
 "cells": [
  {
   "cell_type": "code",
   "execution_count": 56,
   "metadata": {},
   "outputs": [
    {
     "name": "stdout",
     "output_type": "stream",
     "text": [
      "c:\\Users\\CH2\\Projects\\AD_GAN\n"
     ]
    }
   ],
   "source": [
    "import os,glob\n",
    "import pandas as pd\n",
    "import nibabel as nib\n",
    "DATA_PATH=\"datasets/adData_Huashan\"\n",
    "TAR_PATH=\"datasets/adData_Huashan_prep\"\n",
    "CSV_PATH=\"datasets/adData_Huashan/Diagnosis Information.csv\"\n",
    "%cd AD_GAN"
   ]
  },
  {
   "cell_type": "code",
   "execution_count": 49,
   "metadata": {},
   "outputs": [
    {
     "data": {
      "text/plain": [
       "{'ZS13339215': 0,\n",
       " 'ZS12344318': 1,\n",
       " 'ZS20108556': 2,\n",
       " 'ZS20270289': 3,\n",
       " 'ZS20270288': 4,\n",
       " 'ZS09005057': 5,\n",
       " 'ZS09176714': 6,\n",
       " 'ZS09069673': 7,\n",
       " 'ZS08002918': 8,\n",
       " 'ZS20276801': 9,\n",
       " 'ZS20276793': 10,\n",
       " 'ZS20276785': 11,\n",
       " 'ZS11344100': 12,\n",
       " 'ZS20276854': 13,\n",
       " 'ZS20276850': 14,\n",
       " 'ZS20276845': 15,\n",
       " 'ZS17142399': 16,\n",
       " 'ZS17281196': 17,\n",
       " 'ZS16268152': 18,\n",
       " 'ZS10312675': 19,\n",
       " 'ZS13229156': 20,\n",
       " 'ZS15049778': 21,\n",
       " 'ZS11070647': 22,\n",
       " 'ZS09037906': 23,\n",
       " 'ZS14049399': 24,\n",
       " 'ZS20283449': 25,\n",
       " 'ZS20283451': 26,\n",
       " 'ZS20283452': 27,\n",
       " 'ZS20283454': 28,\n",
       " 'ZS15149810': 29,\n",
       " 'ZS20283719': 30,\n",
       " 'ZS20283720': 31,\n",
       " 'ZS09067464': 32,\n",
       " 'ZS09128145': 33,\n",
       " 'ZS09004601': 34,\n",
       " 'ZS13004626': 35,\n",
       " 'ZS09024393': 36,\n",
       " 'ZS21007410': 37,\n",
       " 'ZS16043037': 38,\n",
       " 'ZS15168778': 39,\n",
       " 'ZS19075135': 40,\n",
       " 'ZS12151383': 41,\n",
       " 'ZS18247502': 42,\n",
       " 'ZS18020720': 43,\n",
       " 'ZS16319770': 44,\n",
       " 'ZS10015525': 45,\n",
       " 'ZS09150731': 46,\n",
       " 'ZS14103875': 47,\n",
       " 'ZS14249195': 48,\n",
       " 'ZS13090589': 50,\n",
       " 'ZS13069533': 51,\n",
       " 'ZS09230831': 52,\n",
       " 'ZS21056384': 53,\n",
       " 'ZS18360533': 54,\n",
       " 'ZS15224481': 55,\n",
       " 'ZS20072011': 56,\n",
       " 'ZS17244035': 57,\n",
       " 'ZS20026768': 58,\n",
       " 'ZS21064397': 59,\n",
       " 'ZS14179826': 60,\n",
       " 'ZS20201420': 62,\n",
       " 'ZS18192544': 63,\n",
       " 'ZS21064404': 65,\n",
       " 'ZS21086044': 66,\n",
       " 'ZS13037646': 67,\n",
       " 'ZS21086057': 68,\n",
       " 'ZS21086065': 69,\n",
       " 'ZS09020535': 70,\n",
       " 'ZS21094787': 71,\n",
       " 'ZS09017388': 72,\n",
       " 'ZS21094793': 73,\n",
       " 'ZS21095057': 74,\n",
       " 'ZS17090822': 75,\n",
       " 'ZS21114931': 76,\n",
       " 'ZS21114939': 77,\n",
       " 'ZS12241936': 78,\n",
       " 'ZS21123962': 79,\n",
       " 'ZS15172219': 80,\n",
       " 'ZS21123963': 81,\n",
       " 'ZS21123966': 82,\n",
       " 'ZS21123968': 83,\n",
       " 'ZS10065226': 84,\n",
       " 'ZS21139444': 85,\n",
       " 'ZS21139453': 86,\n",
       " 'ZS21139457': 87,\n",
       " 'ZS21139469': 88,\n",
       " 'ZS21139480': 89,\n",
       " 'ZS21139486': 90,\n",
       " 'ZS19034140': 91,\n",
       " 'ZS21152409': 92,\n",
       " 'ZS12173916': 93,\n",
       " 'ZS15049414': 94,\n",
       " 'ZS10096036': 95,\n",
       " 'ZS16113335': 96,\n",
       " 'ZS15159751': 97,\n",
       " 'ZS21164252': 98,\n",
       " 'ZS19169253': 99,\n",
       " 'ZS21165686': 100,\n",
       " 'ZS19325613': 101,\n",
       " 'ZS21176323': 102,\n",
       " 'ZS20015144': 103,\n",
       " 'ZS16032250': 104,\n",
       " 'ZS21183451': 105,\n",
       " 'ZS21186409': 106,\n",
       " 'ZS17113852': 107,\n",
       " 'ZS21188673': 108,\n",
       " 'ZS17141240': 109,\n",
       " 'ZS10104882': 110,\n",
       " 'ZS21197245': 112,\n",
       " 'ZS21197268': 113,\n",
       " 'ZS21197275': 114,\n",
       " 'ZS21202816': 115,\n",
       " 'ZS21202821': 116,\n",
       " 'ZS21207682': 117,\n",
       " 'ZS21209029': 118,\n",
       " 'ZS20142306': 119,\n",
       " 'ZS09209597': 120,\n",
       " 'ZS10179424': 121,\n",
       " 'ZS13301767': 122,\n",
       " 'ZS11267134': 123,\n",
       " 'ZS21220795': 124,\n",
       " 'ZS13178347': 125,\n",
       " 'ZS10085273': 126,\n",
       " 'ZS10337584': 127,\n",
       " 'ZS14172935': 128,\n",
       " 'ZS21236505': 129,\n",
       " 'ZS21246899': 130,\n",
       " 'ZS17113870': 131,\n",
       " 'ZS21250908': 132,\n",
       " 'ZS21250909': 133,\n",
       " 'ZS12142284': 134}"
      ]
     },
     "execution_count": 49,
     "metadata": {},
     "output_type": "execute_result"
    }
   ],
   "source": [
    "df=pd.read_csv(CSV_PATH,dtype=str,keep_default_na=False)\n",
    "# df.set_index(\"PID\")\n",
    "pdict={value:key for key,value in df[df[\"diagonsis\"]!=\"\"][\"PID\"].to_dict().items()}\n",
    "pdict"
   ]
  },
  {
   "cell_type": "code",
   "execution_count": null,
   "metadata": {},
   "outputs": [],
   "source": [
    "patient_dict={}\n",
    "for dirpath, dirnames, filenames in os.walk(\".\"):\n",
    "    pid=os.path.basename(dirpath).split(\"_\")\n",
    "    for poss_h in pid:\n",
    "        if poss_h in pdict:\n",
    "            df_id=pdict[poss_h]\n",
    "            diag=df.iloc()[df_id][\"diagonsis\"]\n",
    "            if diag not in patient_dict:patient_dict[diag]=[]\n",
    "            patient_dict[diag].append([poss_h,dirpath])\n"
   ]
  },
  {
   "cell_type": "code",
   "execution_count": null,
   "metadata": {},
   "outputs": [],
   "source": [
    "import subprocess\n",
    "\n",
    "def show(s,output=None):\n",
    "    print(s,flush=True)\n",
    "    # print(s,file=sys.stderr,flush=True)\n",
    "    if output is not None:\n",
    "        output.append(s+'\\n')\n",
    "\n",
    "def run_sh(cmd,name=\"unknown\",base_dir=\"tmp\",pname=\"unknown\",outputs=[]):\n",
    "    # tcmd=\n",
    "    outputs.append(cmd)\n",
    "    ret=subprocess.run(f\"cd {base_dir} && {cmd} 2>&1\",shell=True,stdout=subprocess.PIPE,encoding=\"utf\")\n",
    "    if ret.stdout is not None:\n",
    "        outputs.append(ret.stdout+'\\n')\n",
    "    if ret.returncode!=0:\n",
    "        show(f\"{pname}.{name}: {cmd.split()[0]} Failed!\",outputs)\n",
    "        raise Exception(f\"{name} Error!\")\n",
    "    show(f\"{pname}.{name}: {cmd.split()[0]} Successfully!\",outputs)\n"
   ]
  },
  {
   "cell_type": "code",
   "execution_count": null,
   "metadata": {},
   "outputs": [],
   "source": [
    "def load_t1_img(srcpath,tgpath):\n",
    "    os.makedirs(tgpath,exist_ok=True)\n",
    "    sh=lambda cmd,name=\"unknown\",base_dir=\".\":run_sh(cmd,name=name,base_dir=base_dir,pname=srcpath,outputs=[])\n",
    "    srcpath=srcpath+\"/Image/t1_gre_fsp_3d_sag_0.8mm_[0-9]*\"\n",
    "    srcpath=sorted(glob.glob(srcpath))[0]\n",
    "    sh(f\"cp -t {tgpath} {srcpath}/*\",name=\"cp\",base_dir=srcpath)\n",
    "    sh(f\"dcm2niix -b y -z y -x n -t n -m n -f t1 -o . -s n -v n .\",name=\"dcm2nii\",base_dir=tgpath)\n",
    "    img=nib.load(\"t1.nii.gz\")\n",
    "    img_arr=img.get_fdata()\n",
    "    return img_arr"
   ]
  },
  {
   "cell_type": "code",
   "execution_count": null,
   "metadata": {},
   "outputs": [],
   "source": [
    "os.makedirs(TAR_PATH,exist_ok=True)\n",
    "NC_PATH,MCI_PATH=TAR_PATH+\"/NC\",TAR_PATH+\"/MCI\"\n",
    "os.makedirs(NC_PATH,exist_ok=True)\n",
    "os.makedirs(MCI_PATH,exist_ok=True)\n",
    "data=[]\n",
    "for pid,dirpath in patient_dict[\"NC\"]:\n",
    "    data.append([load_t1_img(dirpath,NC_PATH+\"/\"+pid),0])\n",
    "for pid,dirpath in patient_dict[\"MCI\"]:\n",
    "    data.append([load_t1_img(dirpath,MCI_PATH+\"/\"+pid),1])"
   ]
  },
  {
   "cell_type": "code",
   "execution_count": 54,
   "metadata": {},
   "outputs": [
    {
     "data": {
      "text/plain": [
       "''"
      ]
     },
     "execution_count": 54,
     "metadata": {},
     "output_type": "execute_result"
    }
   ],
   "source": [
    "df.iloc()[49][\"diagonsis\"]"
   ]
  },
  {
   "cell_type": "code",
   "execution_count": null,
   "metadata": {},
   "outputs": [],
   "source": []
  }
 ],
 "metadata": {
  "interpreter": {
   "hash": "55702b90ceafba54e3ad10b929c72d2322c4b2ddf39adb4363ed7efc5edc6583"
  },
  "kernelspec": {
   "display_name": "Python 3.7.11 ('mtf')",
   "language": "python",
   "name": "python3"
  },
  "language_info": {
   "codemirror_mode": {
    "name": "ipython",
    "version": 3
   },
   "file_extension": ".py",
   "mimetype": "text/x-python",
   "name": "python",
   "nbconvert_exporter": "python",
   "pygments_lexer": "ipython3",
   "version": "3.7.11"
  },
  "orig_nbformat": 4
 },
 "nbformat": 4,
 "nbformat_minor": 2
}

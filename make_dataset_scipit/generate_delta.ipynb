{
 "cells": [
  {
   "cell_type": "code",
   "execution_count": null,
   "metadata": {},
   "outputs": [],
   "source": [
    "import os\n",
    "from pet_cycgan.model import Cycgan_pet\n",
    "from units.get_delta import generate_delta"
   ]
  },
  {
   "cell_type": "code",
   "execution_count": null,
   "metadata": {},
   "outputs": [],
   "source": [
    "DATA_PATH=\"/hpc/data/home/bme/v-gujch/work/AD_GAN/datasets/Zhongshan_prep/paired_t2/\"\n",
    "OUT_PATH=\"/hpc/data/home/bme/v-gujch/work/AD_GAN/datasets/Zhongshan_prep/delta/\"\n",
    "SAVE_PATH=\"/hpc/data/home/bme/v-gujch/work/AD_GAN/logs/lamda1020220416-014127/Pet_cyc/step_54612/\"\n",
    "cycmod=Cycgan_pet()\n",
    "cycmod.load_model(SAVE_PATH)\n",
    "\n",
    "for pid in os.listdir(DATA_PATH):\n",
    "    f_path=DATA_PATH+pid\n",
    "    fout_path=OUT_PATH+pid\n",
    "    generate_delta(cycmod,f_path,fout_path)"
   ]
  }
 ],
 "metadata": {
  "language_info": {
   "name": "python"
  },
  "orig_nbformat": 4
 },
 "nbformat": 4,
 "nbformat_minor": 2
}

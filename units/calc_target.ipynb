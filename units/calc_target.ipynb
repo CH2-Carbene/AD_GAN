{
 "cells": [
  {
   "cell_type": "code",
   "execution_count": 6,
   "metadata": {},
   "outputs": [],
   "source": [
    "from skimage.metrics import structural_similarity as SSIM\n",
    "from skimage.metrics import peak_signal_noise_ratio as PSNR\n"
   ]
  },
  {
   "cell_type": "code",
   "execution_count": 5,
   "metadata": {},
   "outputs": [
    {
     "data": {
      "text/plain": [
       "['__all__',\n",
       " '__builtins__',\n",
       " '__cached__',\n",
       " '__doc__',\n",
       " '__file__',\n",
       " '__loader__',\n",
       " '__name__',\n",
       " '__package__',\n",
       " '__path__',\n",
       " '__spec__',\n",
       " '_adapted_rand_error',\n",
       " '_contingency_table',\n",
       " '_structural_similarity',\n",
       " '_variation_of_information',\n",
       " 'adapted_rand_error',\n",
       " 'contingency_table',\n",
       " 'hausdorff_distance',\n",
       " 'hausdorff_pair',\n",
       " 'mean_squared_error',\n",
       " 'normalized_mutual_information',\n",
       " 'normalized_root_mse',\n",
       " 'peak_signal_noise_ratio',\n",
       " 'set_metrics',\n",
       " 'simple_metrics',\n",
       " 'structural_similarity',\n",
       " 'variation_of_information']"
      ]
     },
     "execution_count": 5,
     "metadata": {},
     "output_type": "execute_result"
    }
   ],
   "source": [
    "import skimage\n",
    "dir(skimage.metrics)"
   ]
  },
  {
   "cell_type": "code",
   "execution_count": 7,
   "metadata": {},
   "outputs": [
    {
     "name": "stdout",
     "output_type": "stream",
     "text": [
      "Help on function structural_similarity in module skimage.metrics._structural_similarity:\n",
      "\n",
      "structural_similarity(im1, im2, *, win_size=None, gradient=False, data_range=None, channel_axis=None, multichannel=False, gaussian_weights=False, full=False, **kwargs)\n",
      "    Compute the mean structural similarity index between two images.\n",
      "    \n",
      "    Parameters\n",
      "    ----------\n",
      "    im1, im2 : ndarray\n",
      "        Images. Any dimensionality with same shape.\n",
      "    win_size : int or None, optional\n",
      "        The side-length of the sliding window used in comparison. Must be an\n",
      "        odd value. If `gaussian_weights` is True, this is ignored and the\n",
      "        window size will depend on `sigma`.\n",
      "    gradient : bool, optional\n",
      "        If True, also return the gradient with respect to im2.\n",
      "    data_range : float, optional\n",
      "        The data range of the input image (distance between minimum and\n",
      "        maximum possible values). By default, this is estimated from the image\n",
      "        data-type.\n",
      "    channel_axis : int or None, optional\n",
      "        If None, the image is assumed to be a grayscale (single channel) image.\n",
      "        Otherwise, this parameter indicates which axis of the array corresponds\n",
      "        to channels.\n",
      "    \n",
      "        .. versionadded:: 0.19\n",
      "           ``channel_axis`` was added in 0.19.\n",
      "    multichannel : bool, optional\n",
      "        If True, treat the last dimension of the array as channels. Similarity\n",
      "        calculations are done independently for each channel then averaged.\n",
      "        This argument is deprecated: specify `channel_axis` instead.\n",
      "    gaussian_weights : bool, optional\n",
      "        If True, each patch has its mean and variance spatially weighted by a\n",
      "        normalized Gaussian kernel of width sigma=1.5.\n",
      "    full : bool, optional\n",
      "        If True, also return the full structural similarity image.\n",
      "    \n",
      "    Other Parameters\n",
      "    ----------------\n",
      "    use_sample_covariance : bool\n",
      "        If True, normalize covariances by N-1 rather than, N where N is the\n",
      "        number of pixels within the sliding window.\n",
      "    K1 : float\n",
      "        Algorithm parameter, K1 (small constant, see [1]_).\n",
      "    K2 : float\n",
      "        Algorithm parameter, K2 (small constant, see [1]_).\n",
      "    sigma : float\n",
      "        Standard deviation for the Gaussian when `gaussian_weights` is True.\n",
      "    \n",
      "    Returns\n",
      "    -------\n",
      "    mssim : float\n",
      "        The mean structural similarity index over the image.\n",
      "    grad : ndarray\n",
      "        The gradient of the structural similarity between im1 and im2 [2]_.\n",
      "        This is only returned if `gradient` is set to True.\n",
      "    S : ndarray\n",
      "        The full SSIM image.  This is only returned if `full` is set to True.\n",
      "    \n",
      "    Notes\n",
      "    -----\n",
      "    To match the implementation of Wang et. al. [1]_, set `gaussian_weights`\n",
      "    to True, `sigma` to 1.5, and `use_sample_covariance` to False.\n",
      "    \n",
      "    .. versionchanged:: 0.16\n",
      "        This function was renamed from ``skimage.measure.compare_ssim`` to\n",
      "        ``skimage.metrics.structural_similarity``.\n",
      "    \n",
      "    References\n",
      "    ----------\n",
      "    .. [1] Wang, Z., Bovik, A. C., Sheikh, H. R., & Simoncelli, E. P.\n",
      "       (2004). Image quality assessment: From error visibility to\n",
      "       structural similarity. IEEE Transactions on Image Processing,\n",
      "       13, 600-612.\n",
      "       https://ece.uwaterloo.ca/~z70wang/publications/ssim.pdf,\n",
      "       :DOI:`10.1109/TIP.2003.819861`\n",
      "    \n",
      "    .. [2] Avanaki, A. N. (2009). Exact global histogram specification\n",
      "       optimized for structural similarity. Optical Review, 16, 613-621.\n",
      "       :arxiv:`0901.0065`\n",
      "       :DOI:`10.1007/s10043-009-0119-z`\n",
      "\n"
     ]
    }
   ],
   "source": [
    "help(SSIM)"
   ]
  },
  {
   "cell_type": "code",
   "execution_count": null,
   "metadata": {},
   "outputs": [],
   "source": []
  }
 ],
 "metadata": {
  "interpreter": {
   "hash": "55702b90ceafba54e3ad10b929c72d2322c4b2ddf39adb4363ed7efc5edc6583"
  },
  "kernelspec": {
   "display_name": "Python 3.7.11 ('mtf')",
   "language": "python",
   "name": "python3"
  },
  "language_info": {
   "codemirror_mode": {
    "name": "ipython",
    "version": 3
   },
   "file_extension": ".py",
   "mimetype": "text/x-python",
   "name": "python",
   "nbconvert_exporter": "python",
   "pygments_lexer": "ipython3",
   "version": "3.7.11"
  },
  "orig_nbformat": 4
 },
 "nbformat": 4,
 "nbformat_minor": 2
}
